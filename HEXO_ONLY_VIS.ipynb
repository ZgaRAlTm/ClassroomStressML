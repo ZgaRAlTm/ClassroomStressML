{
 "cells": [
  {
   "cell_type": "markdown",
   "id": "501c0d8a",
   "metadata": {},
   "source": [
    "## Vest Data Analysis (larger dataset)"
   ]
  },
  {
   "cell_type": "code",
   "execution_count": 4,
   "id": "665d0aa2",
   "metadata": {},
   "outputs": [
    {
     "name": "stdout",
     "output_type": "stream",
     "text": [
      "Combined CSV data:\n",
      "        time [s/256]  breathing_rate [rpm](/api/datatype/33/)  \\\n",
      "0       4.367425e+11                                     14.0   \n",
      "1       4.367425e+11                                     14.0   \n",
      "2       4.367425e+11                                     14.0   \n",
      "3       4.367425e+11                                     14.0   \n",
      "4       4.367425e+11                                     13.0   \n",
      "...              ...                                      ...   \n",
      "266463  4.381608e+11                                     19.0   \n",
      "266464  4.381608e+11                                     19.0   \n",
      "266465  4.381608e+11                                     19.0   \n",
      "266466  4.381608e+11                                     21.0   \n",
      "266467  4.381608e+11                                     22.0   \n",
      "\n",
      "        minute_ventilation [mL/min](/api/datatype/36/)  \\\n",
      "0                                             19441.92   \n",
      "1                                             19441.92   \n",
      "2                                             19441.92   \n",
      "3                                             17370.24   \n",
      "4                                             17370.24   \n",
      "...                                                ...   \n",
      "266463                                        19627.84   \n",
      "266464                                        19627.84   \n",
      "266465                                        18791.20   \n",
      "266466                                        21433.92   \n",
      "266467                                        21433.92   \n",
      "\n",
      "        minute_ventilation_adjusted [mL/min](/api/datatype/38/)  \\\n",
      "0                                            18354.260140         \n",
      "1                                            18354.260140         \n",
      "2                                            18354.260140         \n",
      "3                                            16398.478322         \n",
      "4                                            16398.478322         \n",
      "...                                                   ...         \n",
      "266463                                       22600.047592         \n",
      "266464                                       22600.047592         \n",
      "266465                                       21636.716741         \n",
      "266466                                       24679.618954         \n",
      "266467                                       24679.618954         \n",
      "\n",
      "        activity [g](/api/datatype/49/)  heart_rate [bpm](/api/datatype/19/)  \\\n",
      "0                              0.066406                                 91.0   \n",
      "1                              0.066406                                 90.0   \n",
      "2                              0.105469                                 91.0   \n",
      "3                              0.175781                                 90.0   \n",
      "4                              0.101562                                 90.0   \n",
      "...                                 ...                                  ...   \n",
      "266463                         0.292969                                110.0   \n",
      "266464                         0.570312                                113.0   \n",
      "266465                         0.531250                                114.0   \n",
      "266466                         0.734375                                116.0   \n",
      "266467                         0.546875                                119.0   \n",
      "\n",
      "        Stress_Score  Time [s/256]  Respiration Rate (rpm)  \\\n",
      "0                NaN           NaN                     NaN   \n",
      "1                NaN           NaN                     NaN   \n",
      "2                NaN           NaN                     NaN   \n",
      "3                NaN           NaN                     NaN   \n",
      "4                NaN           NaN                     NaN   \n",
      "...              ...           ...                     ...   \n",
      "266463           0.0           NaN                     NaN   \n",
      "266464           0.0           NaN                     NaN   \n",
      "266465           0.0           NaN                     NaN   \n",
      "266466           0.0           NaN                     NaN   \n",
      "266467           0.0           NaN                     NaN   \n",
      "\n",
      "        Breathing Volume (liters/min)  Adjusted Breathing Volume (liters/min)  \\\n",
      "0                                 NaN                                     NaN   \n",
      "1                                 NaN                                     NaN   \n",
      "2                                 NaN                                     NaN   \n",
      "3                                 NaN                                     NaN   \n",
      "4                                 NaN                                     NaN   \n",
      "...                               ...                                     ...   \n",
      "266463                            NaN                                     NaN   \n",
      "266464                            NaN                                     NaN   \n",
      "266465                            NaN                                     NaN   \n",
      "266466                            NaN                                     NaN   \n",
      "266467                            NaN                                     NaN   \n",
      "\n",
      "        Activity (g)  Heart Rate (bpm)  Stress Levels  \n",
      "0                NaN               NaN            NaN  \n",
      "1                NaN               NaN            NaN  \n",
      "2                NaN               NaN            NaN  \n",
      "3                NaN               NaN            NaN  \n",
      "4                NaN               NaN            NaN  \n",
      "...              ...               ...            ...  \n",
      "266463           NaN               NaN            NaN  \n",
      "266464           NaN               NaN            NaN  \n",
      "266465           NaN               NaN            NaN  \n",
      "266466           NaN               NaN            NaN  \n",
      "266467           NaN               NaN            NaN  \n",
      "\n",
      "[2158746 rows x 14 columns]\n"
     ]
    }
   ],
   "source": [
    "import os\n",
    "import glob\n",
    "import pandas as pd\n",
    "\n",
    "# Get the root directory of the notebook\n",
    "root_dir = os.getcwd()\n",
    "\n",
    "# Create an empty DataFrame to store concatenated CSV data\n",
    "combined_data = pd.DataFrame()\n",
    "\n",
    "# Loop through the root directory\n",
    "for filename in glob.iglob(root_dir + '/*.csv'):\n",
    "    # Read each CSV file into a DataFrame\n",
    "    df = pd.read_csv(filename)\n",
    "    # Append the DataFrame to combined_data vertically\n",
    "    combined_data = pd.concat([combined_data, df], axis=0)\n",
    "\n",
    "# Display the combined DataFrame\n",
    "print(\"Combined CSV data:\")\n",
    "print(combined_data)\n"
   ]
  },
  {
   "cell_type": "code",
   "execution_count": 9,
   "id": "ce78b81e",
   "metadata": {},
   "outputs": [
    {
     "name": "stdout",
     "output_type": "stream",
     "text": [
      "        time [s/256]  breathing_rate [rpm](/api/datatype/33/)  \\\n",
      "0       4.367425e+11                                     14.0   \n",
      "1       4.367425e+11                                     14.0   \n",
      "2       4.367425e+11                                     14.0   \n",
      "3       4.367425e+11                                     14.0   \n",
      "4       4.367425e+11                                     13.0   \n",
      "...              ...                                      ...   \n",
      "266463  4.381608e+11                                     19.0   \n",
      "266464  4.381608e+11                                     19.0   \n",
      "266465  4.381608e+11                                     19.0   \n",
      "266466  4.381608e+11                                     21.0   \n",
      "266467  4.381608e+11                                     22.0   \n",
      "\n",
      "        minute_ventilation [mL/min](/api/datatype/36/)  \\\n",
      "0                                             19441.92   \n",
      "1                                             19441.92   \n",
      "2                                             19441.92   \n",
      "3                                             17370.24   \n",
      "4                                             17370.24   \n",
      "...                                                ...   \n",
      "266463                                        19627.84   \n",
      "266464                                        19627.84   \n",
      "266465                                        18791.20   \n",
      "266466                                        21433.92   \n",
      "266467                                        21433.92   \n",
      "\n",
      "        minute_ventilation_adjusted [mL/min](/api/datatype/38/)  \\\n",
      "0                                            18354.260140         \n",
      "1                                            18354.260140         \n",
      "2                                            18354.260140         \n",
      "3                                            16398.478322         \n",
      "4                                            16398.478322         \n",
      "...                                                   ...         \n",
      "266463                                       22600.047592         \n",
      "266464                                       22600.047592         \n",
      "266465                                       21636.716741         \n",
      "266466                                       24679.618954         \n",
      "266467                                       24679.618954         \n",
      "\n",
      "        activity [g](/api/datatype/49/)  heart_rate [bpm](/api/datatype/19/)  \\\n",
      "0                              0.066406                                 91.0   \n",
      "1                              0.066406                                 90.0   \n",
      "2                              0.105469                                 91.0   \n",
      "3                              0.175781                                 90.0   \n",
      "4                              0.101562                                 90.0   \n",
      "...                                 ...                                  ...   \n",
      "266463                         0.292969                                110.0   \n",
      "266464                         0.570312                                113.0   \n",
      "266465                         0.531250                                114.0   \n",
      "266466                         0.734375                                116.0   \n",
      "266467                         0.546875                                119.0   \n",
      "\n",
      "        Stress_Score  \n",
      "0                NaN  \n",
      "1                NaN  \n",
      "2                NaN  \n",
      "3                NaN  \n",
      "4                NaN  \n",
      "...              ...  \n",
      "266463           0.0  \n",
      "266464           0.0  \n",
      "266465           0.0  \n",
      "266466           0.0  \n",
      "266467           0.0  \n",
      "\n",
      "[2158746 rows x 7 columns]\n"
     ]
    }
   ],
   "source": [
    "# Assuming combined_data is the DataFrame containing the data\n",
    "\n",
    "# List of columns to delete\n",
    "columns_to_delete = [\n",
    "    'Time [s/256]',\n",
    "    'Respiration Rate (rpm)',\n",
    "    'Breathing Volume (liters/min)',\n",
    "    'Adjusted Breathing Volume (liters/min)',\n",
    "    'Activity (g)',\n",
    "    'Heart Rate (bpm)',\n",
    "    'Stress Levels'\n",
    "]\n",
    "\n",
    "# Drop the specified columns\n",
    "combined_data.drop(columns=columns_to_delete, inplace=True)\n",
    "\n",
    "# Print the updated DataFrame\n",
    "print(combined_data)\n"
   ]
  },
  {
   "cell_type": "code",
   "execution_count": 10,
   "id": "ce0d38fe",
   "metadata": {},
   "outputs": [
    {
     "name": "stdout",
     "output_type": "stream",
     "text": [
      "Number of NaN values in the DataFrame: 7282490\n"
     ]
    }
   ],
   "source": [
    "# Count the number of NaN values in the DataFrame\n",
    "nan_count = combined_data.isna().sum().sum()\n",
    "print(\"Number of NaN values in the DataFrame:\", nan_count)\n"
   ]
  },
  {
   "cell_type": "code",
   "execution_count": 11,
   "id": "3d5ddd7e",
   "metadata": {},
   "outputs": [
    {
     "name": "stdout",
     "output_type": "stream",
     "text": [
      "DataFrame after removing NaN values:\n",
      "        time [s/256]  breathing_rate [rpm](/api/datatype/33/)  \\\n",
      "32740   4.380245e+11                                     17.0   \n",
      "32743   4.380245e+11                                     17.0   \n",
      "32744   4.380245e+11                                     17.0   \n",
      "32745   4.380245e+11                                     17.0   \n",
      "32746   4.380245e+11                                     17.0   \n",
      "...              ...                                      ...   \n",
      "266463  4.381608e+11                                     19.0   \n",
      "266464  4.381608e+11                                     19.0   \n",
      "266465  4.381608e+11                                     19.0   \n",
      "266466  4.381608e+11                                     21.0   \n",
      "266467  4.381608e+11                                     22.0   \n",
      "\n",
      "        minute_ventilation [mL/min](/api/datatype/36/)  \\\n",
      "32740                                          6374.40   \n",
      "32743                                          6374.40   \n",
      "32744                                          6613.44   \n",
      "32745                                          6613.44   \n",
      "32746                                          6613.44   \n",
      "...                                                ...   \n",
      "266463                                        19627.84   \n",
      "266464                                        19627.84   \n",
      "266465                                        18791.20   \n",
      "266466                                        21433.92   \n",
      "266467                                        21433.92   \n",
      "\n",
      "        minute_ventilation_adjusted [mL/min](/api/datatype/38/)  \\\n",
      "32740                                         6017.790210         \n",
      "32743                                         6017.790210         \n",
      "32744                                         6243.457343         \n",
      "32745                                         6243.457343         \n",
      "32746                                         6243.457343         \n",
      "...                                                   ...         \n",
      "266463                                       22600.047592         \n",
      "266464                                       22600.047592         \n",
      "266465                                       21636.716741         \n",
      "266466                                       24679.618954         \n",
      "266467                                       24679.618954         \n",
      "\n",
      "        activity [g](/api/datatype/49/)  heart_rate [bpm](/api/datatype/19/)  \\\n",
      "32740                          0.015625                                 88.0   \n",
      "32743                          0.000000                                 89.0   \n",
      "32744                          0.000000                                 89.0   \n",
      "32745                          0.000000                                 89.0   \n",
      "32746                          0.000000                                 88.0   \n",
      "...                                 ...                                  ...   \n",
      "266463                         0.292969                                110.0   \n",
      "266464                         0.570312                                113.0   \n",
      "266465                         0.531250                                114.0   \n",
      "266466                         0.734375                                116.0   \n",
      "266467                         0.546875                                119.0   \n",
      "\n",
      "        Stress_Score  \n",
      "32740            0.0  \n",
      "32743            0.0  \n",
      "32744            0.0  \n",
      "32745            0.0  \n",
      "32746            0.0  \n",
      "...              ...  \n",
      "266463           0.0  \n",
      "266464           0.0  \n",
      "266465           0.0  \n",
      "266466           0.0  \n",
      "266467           0.0  \n",
      "\n",
      "[1024737 rows x 7 columns]\n"
     ]
    }
   ],
   "source": [
    "# Remove NaN values from the DataFrame\n",
    "combined_data.dropna(inplace=True)\n",
    "\n",
    "# Print the DataFrame after removing NaN values\n",
    "print(\"DataFrame after removing NaN values:\")\n",
    "print(combined_data)\n"
   ]
  },
  {
   "cell_type": "code",
   "execution_count": 12,
   "id": "4a29f249",
   "metadata": {},
   "outputs": [
    {
     "name": "stdout",
     "output_type": "stream",
     "text": [
      "       Time [s/256]  Respiration Rate (rpm)  Breathing Volume (liters/min)  \\\n",
      "32740  4.380245e+11                    17.0                        6374.40   \n",
      "32743  4.380245e+11                    17.0                        6374.40   \n",
      "32744  4.380245e+11                    17.0                        6613.44   \n",
      "32745  4.380245e+11                    17.0                        6613.44   \n",
      "32746  4.380245e+11                    17.0                        6613.44   \n",
      "\n",
      "       Adjusted Breathing Volume (liters/min)  Activity (g)  Heart Rate (bpm)  \\\n",
      "32740                             6017.790210      0.015625              88.0   \n",
      "32743                             6017.790210      0.000000              89.0   \n",
      "32744                             6243.457343      0.000000              89.0   \n",
      "32745                             6243.457343      0.000000              89.0   \n",
      "32746                             6243.457343      0.000000              88.0   \n",
      "\n",
      "       Stress Levels  \n",
      "32740            0.0  \n",
      "32743            0.0  \n",
      "32744            0.0  \n",
      "32745            0.0  \n",
      "32746            0.0  \n"
     ]
    }
   ],
   "source": [
    "# Define the new column names\n",
    "new_column_names = {\n",
    "    'time [s/256]': 'Time [s/256]',\n",
    "    'breathing_rate [rpm](/api/datatype/33/)': 'Respiration Rate (rpm)',\n",
    "    'minute_ventilation [mL/min](/api/datatype/36/)': 'Breathing Volume (liters/min)',\n",
    "    'minute_ventilation_adjusted [mL/min](/api/datatype/38/)': 'Adjusted Breathing Volume (liters/min)',\n",
    "    'activity [g](/api/datatype/49/)': 'Activity (g)',\n",
    "    'heart_rate [bpm](/api/datatype/19/)': 'Heart Rate (bpm)',\n",
    "    'Stress_Score': 'Stress Levels'\n",
    "}\n",
    "\n",
    "# Rename the columns in the combined_data DataFrame\n",
    "combined_data.rename(columns=new_column_names, inplace=True)\n",
    "\n",
    "# Print the DataFrame to verify the changes\n",
    "print(combined_data.head())\n"
   ]
  },
  {
   "cell_type": "code",
   "execution_count": 13,
   "id": "d4c05ba4",
   "metadata": {},
   "outputs": [
    {
     "name": "stdout",
     "output_type": "stream",
     "text": [
      "       Breathing Volume (liters/min)  Adjusted Breathing Volume (liters/min)\n",
      "32740                        6.37440                                6.017790\n",
      "32743                        6.37440                                6.017790\n",
      "32744                        6.61344                                6.243457\n",
      "32745                        6.61344                                6.243457\n",
      "32746                        6.61344                                6.243457\n"
     ]
    }
   ],
   "source": [
    "# Divide the columns by 1000 to convert mL to liters\n",
    "combined_data['Breathing Volume (liters/min)'] /= 1000\n",
    "combined_data['Adjusted Breathing Volume (liters/min)'] /= 1000\n",
    "\n",
    "# Print the modified DataFrame to verify the changes\n",
    "print(combined_data[['Breathing Volume (liters/min)', 'Adjusted Breathing Volume (liters/min)']].head())\n"
   ]
  },
  {
   "cell_type": "markdown",
   "id": "637f9995",
   "metadata": {},
   "source": [
    "## Median and Standard Deviation Statistics\n",
    "## Top Features \n",
    "## 3 Stress Levels"
   ]
  },
  {
   "cell_type": "code",
   "execution_count": 7,
   "id": "35ac4847",
   "metadata": {},
   "outputs": [
    {
     "name": "stdout",
     "output_type": "stream",
     "text": [
      "Median and Standard Deviation for Stress Level No Stress:\n",
      "Breathing Volume (liters/min)  median     7.450080\n",
      "                               std        4.412228\n",
      "Respiration Rate (rpm)         median    17.000000\n",
      "                               std        5.098978\n",
      "Heart Rate (bpm)               median    82.000000\n",
      "                               std       10.386437\n",
      "Name: 0.0, dtype: float64\n",
      "\n",
      "Median and Standard Deviation for Stress Level Mild Stress:\n",
      "Breathing Volume (liters/min)  median     7.702400\n",
      "                               std        4.273552\n",
      "Respiration Rate (rpm)         median    16.000000\n",
      "                               std        4.587206\n",
      "Heart Rate (bpm)               median    86.000000\n",
      "                               std       11.201792\n",
      "Name: 1.0, dtype: float64\n",
      "\n",
      "Median and Standard Deviation for Stress Level High Stress:\n",
      "Breathing Volume (liters/min)  median     8.100800\n",
      "                               std        4.386636\n",
      "Respiration Rate (rpm)         median    16.000000\n",
      "                               std        5.199006\n",
      "Heart Rate (bpm)               median    88.000000\n",
      "                               std       11.932506\n",
      "Name: 2.0, dtype: float64\n"
     ]
    }
   ],
   "source": [
    "import pandas as pd\n",
    "\n",
    "# Assuming you have a DataFrame named combined_data with the required columns\n",
    "# Replace combined_data with the actual name of your DataFrame\n",
    "\n",
    "# Group by \"Stress Levels\" and calculate median and standard deviation\n",
    "median_std_by_stress = combined_data.groupby(\"Stress Levels\").agg({\n",
    "    \"Breathing Volume (liters/min)\": [\"median\", \"std\"],\n",
    "    \"Respiration Rate (rpm)\": [\"median\", \"std\"],\n",
    "    \"Heart Rate (bpm)\": [\"median\", \"std\"]\n",
    "})\n",
    "\n",
    "# For Stress Level 0\n",
    "median_std_stress_0 = median_std_by_stress.loc[0]\n",
    "print(\"Median and Standard Deviation for Stress Level No Stress:\")\n",
    "print(median_std_stress_0)\n",
    "\n",
    "# For Stress Level 1\n",
    "median_std_stress_1 = median_std_by_stress.loc[1]\n",
    "print(\"\\nMedian and Standard Deviation for Stress Level Mild Stress:\")\n",
    "print(median_std_stress_1)\n",
    "\n",
    "# For Stress Level 2\n",
    "median_std_stress_2 = median_std_by_stress.loc[2]\n",
    "print(\"\\nMedian and Standard Deviation for Stress Level High Stress:\")\n",
    "print(median_std_stress_2)\n"
   ]
  },
  {
   "cell_type": "markdown",
   "id": "8d563035",
   "metadata": {},
   "source": [
    "## Median and Standard Deviation Statistics\n",
    "## Top Features \n",
    "## 2 Stress Levels"
   ]
  },
  {
   "cell_type": "code",
   "execution_count": 8,
   "id": "da193284",
   "metadata": {},
   "outputs": [
    {
     "name": "stdout",
     "output_type": "stream",
     "text": [
      "Median and Standard Deviation for Stressed:\n",
      "Breathing Volume (liters/min)  median     7.782080\n",
      "                               std        4.304544\n",
      "Respiration Rate (rpm)         median    16.000000\n",
      "                               std        4.751757\n",
      "Heart Rate (bpm)               median    86.000000\n",
      "                               std       11.471823\n",
      "Name: Low-Medium, dtype: float64\n",
      "\n",
      "Median and Standard Deviation for Stress Level No Stress:\n",
      "Breathing Volume (liters/min)  median     7.450080\n",
      "                               std        4.412228\n",
      "Respiration Rate (rpm)         median    17.000000\n",
      "                               std        5.098978\n",
      "Heart Rate (bpm)               median    82.000000\n",
      "                               std       10.386437\n",
      "Name: 0.0, dtype: float64\n"
     ]
    }
   ],
   "source": [
    "import pandas as pd\n",
    "\n",
    "# Assuming you have a DataFrame named combined_data with the required columns\n",
    "# Replace combined_data with the actual name of your DataFrame\n",
    "\n",
    "# Create a new column \"Grouped Stress Levels\" where 1 and 2 are grouped together\n",
    "combined_data[\"Grouped Stress Levels\"] = combined_data[\"Stress Levels\"].replace({1: \"Low-Medium\", 2: \"Low-Medium\"})\n",
    "\n",
    "# Group by \"Grouped Stress Levels\" and calculate median and standard deviation\n",
    "median_std_by_grouped_stress = combined_data.groupby(\"Grouped Stress Levels\").agg({\n",
    "    \"Breathing Volume (liters/min)\": [\"median\", \"std\"],\n",
    "    \"Respiration Rate (rpm)\": [\"median\", \"std\"],\n",
    "    \"Heart Rate (bpm)\": [\"median\", \"std\"]\n",
    "})\n",
    "\n",
    "# For Low-Medium Stress Levels\n",
    "median_std_low_medium_stress = median_std_by_grouped_stress.loc[\"Low-Medium\"]\n",
    "print(\"Median and Standard Deviation for Stressed:\")\n",
    "print(median_std_low_medium_stress)\n",
    "\n",
    "# For Stress Level 0\n",
    "median_std_stress_0 = median_std_by_grouped_stress.loc[0]\n",
    "print(\"\\nMedian and Standard Deviation for Stress Level No Stress:\")\n",
    "print(median_std_stress_0)\n"
   ]
  },
  {
   "cell_type": "markdown",
   "id": "aa82769a",
   "metadata": {},
   "source": [
    "## Mean Respiration Rate \n",
    "## Stress Levels"
   ]
  },
  {
   "cell_type": "code",
   "execution_count": 94,
   "id": "2f839a35",
   "metadata": {},
   "outputs": [
    {
     "name": "stderr",
     "output_type": "stream",
     "text": [
      "/var/folders/rw/__mb4wmn317bq6zqm1ftt10r0000gn/T/ipykernel_63986/1144803994.py:32: UserWarning:\n",
      "\n",
      "FixedFormatter should only be used together with FixedLocator\n",
      "\n"
     ]
    },
    {
     "data": {
      "image/png": "[encoded data removed]",
      "text/plain": [
       "<Figure size 864x432 with 2 Axes>"
      ]
     },
     "metadata": {
      "needs_background": "light"
     },
     "output_type": "display_data"
    }
   ],
   "source": [
    "import pandas as pd\n",
    "import matplotlib.pyplot as plt\n",
    "import seaborn as sns\n",
    "\n",
    "# Extract 'Respiration Rate (rpm)' and 'Stress_Score' columns\n",
    "respiration_rate_data = combined_data[['Respiration Rate (rpm)', 'Stress Levels']]\n",
    "\n",
    "# Calculate average respiration rate for each Stress Score\n",
    "average_respiration_rate = respiration_rate_data.groupby('Stress Levels')['Respiration Rate (rpm)'].mean()\n",
    "\n",
    "# Plot box plot and bar chart side by side\n",
    "fig, (ax_box, ax_bar) = plt.subplots(nrows=1, ncols=2, figsize=(12, 6), gridspec_kw={'width_ratios': [2, 1]})\n",
    "\n",
    "# Box plot\n",
    "box_colors = ['skyblue', 'lightgreen', 'lightcoral']\n",
    "sns.boxplot(x='Stress Levels', y='Respiration Rate (rpm)', data=respiration_rate_data, ax=ax_box, palette=box_colors)\n",
    "ax_box.set_xlabel('Stress Level', fontsize=18)\n",
    "ax_box.set_ylabel('Respiration Rate (rpm)', fontsize=18)\n",
    "ax_box.set_title('Box Plot of Respiration Rate by Stress Score', fontsize=18)\n",
    "\n",
    "# Create custom legend handles for the box plot\n",
    "legend_handles = [plt.Line2D([0], [0], marker='o', color='w', markerfacecolor=color, markersize=10) for color in box_colors]\n",
    "ax_box.legend(legend_handles, ['No Stress', 'Mild Stress', 'High Stress'], loc='upper right', fontsize=10)\n",
    "\n",
    "# Bar chart\n",
    "bar_color = 'lightblue'\n",
    "average_respiration_rate.plot(kind='bar', color=bar_color, edgecolor='black', ax=ax_bar)\n",
    "ax_bar.set_xlabel('Stress Level', fontsize=18)\n",
    "ax_bar.set_ylabel('Respiration Rate (rpm)', fontsize=18)\n",
    "ax_bar.set_title('Mean Respiration Rate by Stress', fontsize=18)\n",
    "ax_bar.set_xticklabels(ax_bar.get_xticklabels(), rotation=0, fontsize=18)  # Rotate x-axis labels\n",
    "ax_bar.set_yticklabels(ax_bar.get_yticklabels(), fontsize=18)\n",
    "\n",
    "# Show values on top of the bar chart\n",
    "for i, v in enumerate(average_respiration_rate):\n",
    "    ax_bar.text(i, v + 0.02, f'{v:.2f}', ha='center', va='bottom', fontsize=12)\n",
    "\n",
    "# Set fontsize for all elements\n",
    "plt.rcParams.update({'font.size': 18})\n",
    "\n",
    "plt.tight_layout()\n",
    "plt.show()\n"
   ]
  },
  {
   "cell_type": "markdown",
   "id": "691fb4a8",
   "metadata": {},
   "source": [
    "## Mean Breathing Volume\n",
    "## Stress Levels"
   ]
  },
  {
   "cell_type": "code",
   "execution_count": 95,
   "id": "75e604b1",
   "metadata": {},
   "outputs": [
    {
     "name": "stderr",
     "output_type": "stream",
     "text": [
      "/var/folders/rw/__mb4wmn317bq6zqm1ftt10r0000gn/T/ipykernel_63986/2067791020.py:32: UserWarning:\n",
      "\n",
      "FixedFormatter should only be used together with FixedLocator\n",
      "\n"
     ]
    },
    {
     "data": {
      "image/png": "[encoded data removed]",
      "text/plain": [
       "<Figure size 864x432 with 2 Axes>"
      ]
     },
     "metadata": {
      "needs_background": "light"
     },
     "output_type": "display_data"
    }
   ],
   "source": [
    "import pandas as pd\n",
    "import matplotlib.pyplot as plt\n",
    "import seaborn as sns\n",
    "\n",
    "# Extract 'Respiration Rate (rpm)' and 'Stress_Score' columns\n",
    "respiration_rate_data = combined_data[['Breathing Volume (liters/min)', 'Stress Levels']]\n",
    "\n",
    "# Calculate average respiration rate for each Stress Score\n",
    "average_respiration_rate = respiration_rate_data.groupby('Stress Levels')['Breathing Volume (liters/min)'].mean()\n",
    "\n",
    "# Plot box plot and bar chart side by side\n",
    "fig, (ax_box, ax_bar) = plt.subplots(nrows=1, ncols=2, figsize=(12, 6), gridspec_kw={'width_ratios': [2, 1]})\n",
    "\n",
    "# Box plot\n",
    "box_colors = ['skyblue', 'lightgreen', 'lightcoral']\n",
    "sns.boxplot(x='Stress Levels', y='Breathing Volume (liters/min)', data=respiration_rate_data, ax=ax_box, palette=box_colors)\n",
    "ax_box.set_xlabel('Stress Level', fontsize=18)\n",
    "ax_box.set_ylabel('Breathing Volume (liters/min)', fontsize=18)\n",
    "ax_box.set_title('Box Plot of Breathing Volume by Stress Score', fontsize=18)\n",
    "\n",
    "# Create custom legend handles for the box plot\n",
    "legend_handles = [plt.Line2D([0], [0], marker='o', color='w', markerfacecolor=color, markersize=10) for color in box_colors]\n",
    "ax_box.legend(legend_handles, ['No Stress', 'Mild Stress', 'High Stress'], loc='upper right', fontsize=10)\n",
    "\n",
    "# Bar chart\n",
    "bar_color = 'lightblue'\n",
    "average_respiration_rate.plot(kind='bar', color=bar_color, edgecolor='black', ax=ax_bar)\n",
    "ax_bar.set_xlabel('Stress Level', fontsize=18)\n",
    "ax_bar.set_ylabel('Breathing Volume (liters/min)', fontsize=18)\n",
    "ax_bar.set_title('Mean Breathing Volume by Stress', fontsize=18)\n",
    "ax_bar.set_xticklabels(ax_bar.get_xticklabels(), rotation=0, fontsize=18)  # Rotate x-axis labels\n",
    "ax_bar.set_yticklabels(ax_bar.get_yticklabels(), fontsize=18)\n",
    "\n",
    "# Show values on top of the bar chart\n",
    "for i, v in enumerate(average_respiration_rate):\n",
    "    ax_bar.text(i, v + 0.02, f'{v:.2f}', ha='center', va='bottom', fontsize=12)\n",
    "\n",
    "# Set fontsize for all elements\n",
    "plt.rcParams.update({'font.size': 18})\n",
    "\n",
    "plt.tight_layout()\n",
    "plt.show()\n"
   ]
  },
  {
   "cell_type": "markdown",
   "id": "66e5d5a8",
   "metadata": {},
   "source": [
    "## Smaller Correlation Matrix, with more observations\n",
    "## Moderater Correlation between breathing volume and activity"
   ]
  },
  {
   "cell_type": "code",
   "execution_count": 55,
   "id": "f17db2a9",
   "metadata": {},
   "outputs": [
    {
     "data": {
      "image/png": "[encoded data removed]",
      "text/plain": [
       "<Figure size 648x648 with 2 Axes>"
      ]
     },
     "metadata": {
      "needs_background": "light"
     },
     "output_type": "display_data"
    }
   ],
   "source": [
    "import pandas as pd\n",
    "import seaborn as sns\n",
    "import matplotlib.pyplot as plt\n",
    "\n",
    "# Select only the desired columns (features) from the combined_data DataFrame\n",
    "selected_features = combined_data[['Respiration Rate (rpm)',\n",
    "                                   'Breathing Volume (liters/min)','Heart Rate (bpm)','Activity (g)','Stress Levels']]\n",
    "\n",
    "# Calculate the correlation matrix\n",
    "correlation_matrix = selected_features.corr()\n",
    "\n",
    "# Plot the correlation matrix using a heatmap with slanted x-axis labels\n",
    "plt.figure(figsize=(9, 9))\n",
    "sns.heatmap(correlation_matrix, annot=False, cmap='coolwarm', linewidths=.5, xticklabels=correlation_matrix.columns, yticklabels=correlation_matrix.columns, fmt=\".2f\", annot_kws={'size': 12})\n",
    "plt.title('Correlation Matrix of Features', fontsize=18)\n",
    "\n",
    "# Rotate x-axis labels\n",
    "plt.xticks(rotation=45, ha='right', fontsize=15)\n",
    "plt.yticks(fontsize=15)\n",
    "\n",
    "plt.show()\n"
   ]
  }
 ],
 "metadata": {
  "kernelspec": {
   "display_name": "Python 3 (ipykernel)",
   "language": "python",
   "name": "python3"
  },
  "language_info": {
   "codemirror_mode": {
    "name": "ipython",
    "version": 3
   },
   "file_extension": ".py",
   "mimetype": "text/x-python",
   "name": "python",
   "nbconvert_exporter": "python",
   "pygments_lexer": "ipython3",
   "version": "3.9.12"
  }
 },
 "nbformat": 4,
 "nbformat_minor": 5
}
